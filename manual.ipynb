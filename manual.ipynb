{
 "cells": [
  {
   "attachments": {},
   "cell_type": "markdown",
   "metadata": {},
   "source": [
    "# System Demo\n",
    "- Paper: Towards interactive robotics: Zero-shot action sequence generation using reasoning through ChatGPT\n",
    "- Creator: Andrei Dragomir"
   ]
  },
  {
   "attachments": {},
   "cell_type": "markdown",
   "metadata": {},
   "source": [
    "## Testing"
   ]
  },
  {
   "attachments": {},
   "cell_type": "markdown",
   "metadata": {},
   "source": [
    "### Manipulation\n",
    "\n",
    "- Limitations:\n",
    "  - Objects that have the attribute \"is_accessible\" set to true make the contained objects graspable.\n",
    "- Policy:\n",
    "  - To take an object from within another object you must recursively reach that object from the top most container object to the object that contains the required object.\n",
    "  - If any object in the sequence fails to be accessed, give context as to which object is not accessible and why."
   ]
  },
  {
   "attachments": {},
   "cell_type": "markdown",
   "metadata": {},
   "source": [
    "### Perception\n",
    "\n",
    "- Through perception you can find an object that you do not have yet in memory.\n",
    "- You can also do specific checks on objects"
   ]
  },
  {
   "attachments": {},
   "cell_type": "markdown",
   "metadata": {},
   "source": [
    "### Reasoning"
   ]
  },
  {
   "attachments": {},
   "cell_type": "markdown",
   "metadata": {},
   "source": [
    "### Prompts"
   ]
  },
  {
   "attachments": {},
   "cell_type": "markdown",
   "metadata": {},
   "source": [
    "##### Benchmarks"
   ]
  },
  {
   "attachments": {},
   "cell_type": "markdown",
   "metadata": {},
   "source": []
  }
 ],
 "metadata": {
  "kernelspec": {
   "display_name": "gpt-controller-pQPBvhTj-py3.10",
   "language": "python",
   "name": "python3"
  },
  "language_info": {
   "name": "python",
   "version": "3.10.6"
  },
  "orig_nbformat": 4
 },
 "nbformat": 4,
 "nbformat_minor": 2
}
